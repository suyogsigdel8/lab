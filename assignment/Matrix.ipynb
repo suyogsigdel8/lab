{
 "cells": [
  {
   "cell_type": "markdown",
   "metadata": {},
   "source": [
    "# Linear Algebra"
   ]
  },
  {
   "cell_type": "code",
   "execution_count": 20,
   "metadata": {},
   "outputs": [],
   "source": [
    "import numpy as np"
   ]
  },
  {
   "cell_type": "markdown",
   "metadata": {},
   "source": [
    "### 1. Matrix Operation"
   ]
  },
  {
   "cell_type": "code",
   "execution_count": 9,
   "metadata": {},
   "outputs": [
    {
     "name": "stdout",
     "output_type": "stream",
     "text": [
      " A + B : \n",
      " [[ 3  1]\n",
      " [-3  7]]\n",
      "\n",
      " A . B : \n",
      " [[ 5  0]\n",
      " [-9 12]]\n",
      "\n",
      " 3A - 2B : \n",
      " [[ 4 -7]\n",
      " [ 6  1]]\n"
     ]
    }
   ],
   "source": [
    "mat_A= [[2, -1], [0, 3]]\n",
    "mat_B= [[1, 2], [-3, 4]]\n",
    "print(\" A + B : \\n\", np.array(mat_A)+np.array(mat_B))\n",
    "print(\"\\n A . B : \\n\", np.dot(mat_A, mat_B))\n",
    "print(\"\\n 3A - 2B : \\n\", np.dot(mat_A, 3)-np.dot(B, 2))"
   ]
  },
  {
   "cell_type": "markdown",
   "metadata": {},
   "source": [
    "### 2. Determinants and Inverses"
   ]
  },
  {
   "cell_type": "code",
   "execution_count": 46,
   "metadata": {},
   "outputs": [
    {
     "name": "stdout",
     "output_type": "stream",
     "text": [
      "Determinant of matrix A:  6.0\n",
      "Inverse of matrix A: \n",
      " [[0.5        0.16666667]\n",
      " [0.         0.33333333]]\n"
     ]
    }
   ],
   "source": [
    "mat_A= [[2, -1], [0, 3]]\n",
    "det_A = np.linalg.det(mat_A) \n",
    "print(\"Determinant of matrix A: \", det_A)\n",
    "if det_A != 0:    \n",
    "    inv_A = np.linalg.inv(mat_A)\n",
    "    print(\"Inverse of matrix A: \\n\", inv_A) \n",
    "else:\n",
    "    print(\"Not invertible\")"
   ]
  },
  {
   "cell_type": "markdown",
   "metadata": {},
   "source": [
    "### 3. Eigen values and Eigen vectors"
   ]
  },
  {
   "cell_type": "code",
   "execution_count": 18,
   "metadata": {},
   "outputs": [
    {
     "name": "stdout",
     "output_type": "stream",
     "text": [
      "Eigenvalue:  [3. 2.]\n",
      "Eigenvector:  [[ 0.70710678 -0.4472136 ]\n",
      " [-0.70710678  0.89442719]]\n"
     ]
    }
   ],
   "source": [
    "mat_C = [[4, 1], [-2, 1]]\n",
    "evalue, evector = np.linalg.eig(mat_C)\n",
    "print(\"Eigenvalue: \", evalue)\n",
    "print(\"Eigenvector: \", evector)\n",
    "        "
   ]
  },
  {
   "cell_type": "code",
   "execution_count": 47,
   "metadata": {},
   "outputs": [
    {
     "name": "stdout",
     "output_type": "stream",
     "text": [
      "The price of car 3 is  40.00000000000002\n"
     ]
    }
   ],
   "source": [
    "mat_X = np.array([[4, 1.5, 100],\n",
    "         [6, 2.0, 150]]) #dataset for car1 and car2\n",
    "mat_Y = np.array([20, 30]) #price for car1 and car2\n",
    "beta = np.linalg.pinv(mat_X) @ mat_Y #using psudoinv for numerical stability\n",
    "car3 = np.array([8, 3.0, 200]) #dataset for car3\n",
    "car3_price = car3 @ beta #predicting price of car3 by doing dot product of car3 and beta\n",
    "print(\"The price of car 3 is \", car3_price)"
   ]
  },
  {
   "cell_type": "markdown",
   "metadata": {},
   "source": [
    "## Discussion and Conclusion"
   ]
  },
  {
   "cell_type": "markdown",
   "metadata": {},
   "source": [
    "Through this lab sesion, we wee able to be familiar with the concept of linear algebra, specifically matrix, in Python. We were able to perform basic matrix operation, such as addition, dot product, determinants and inverses. We were also able to learn how to compute eigenvalues and eigenvectos using the numpy library functions.\n",
    "\n",
    "We were also given a dataset about cars and instructed to use the concept of coefficient vector to predict the price of car3 using the dataset. Here, we used the concept of 'pseudoinverse' to compute the coefficient vector since the feature matrix \"mat_X\" is not directly invertible as it is not a square matrix. For this, we used the numpy library function 'np.linalg.pinv(mat_X)', after which the price of car3 was then predicted from the given dataset.\n",
    "\n",
    "In Conclusion, we were able to use the numpy library functions to perform basic matrix operations and then further increase our knowledge by applying the basics and numpy library functions to perform real time data analysis from a given dataset."
   ]
  }
 ],
 "metadata": {
  "kernelspec": {
   "display_name": "Python 3",
   "language": "python",
   "name": "python3"
  },
  "language_info": {
   "codemirror_mode": {
    "name": "ipython",
    "version": 3
   },
   "file_extension": ".py",
   "mimetype": "text/x-python",
   "name": "python",
   "nbconvert_exporter": "python",
   "pygments_lexer": "ipython3",
   "version": "3.13.0"
  }
 },
 "nbformat": 4,
 "nbformat_minor": 2
}
